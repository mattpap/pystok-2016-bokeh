{
 "cells": [
  {
   "cell_type": "code",
   "execution_count": null,
   "metadata": {},
   "outputs": [],
   "source": [
    "%%javascript\n",
    "Jupyter.utils.load_extension(\"nb-mermaid/nb-mermaid\")"
   ]
  },
  {
   "cell_type": "markdown",
   "metadata": {},
   "source": [
    "<img src=\"bokeh-transparent.png\" width=\"64\" height=\"64\">\n",
    "\n",
    "# bokeh\n",
    "\n",
    "* interaktywne wizualizacje\n",
    "* nowatorskie grafiki\n",
    "* renderowanie w przeglądarce webowej\n",
    "* (zazwyczaj) nie ma potrzeby znania technologii webowych (HTML, JavaScript, CSS)\n",
    "* integracja z jupyter notebook, numpy, pandas, matplotlib, seaborn, ...\n",
    "* trzy poziomy API (`bokeh.models`, `bokeh.plotting`, `bokeh.charts`)\n",
    "* wbudowany system statycznych typów danych\n",
    "* możliwość tworzenia interfejsów użytkownika (`bokeh.widgets`)\n",
    "* nie tylko Python (R - `rbokeh`, Julia - `bokeh.jl`, Scala - `bokeh-scala`, ...)\n",
    "* możliwość rozszerzania funkcjonalność biblioteki\n",
    "* serwer, strumieniowe przesyłanie danych, duże dane (próbkowanie)\n",
    "* tworzone przez Continuum Analytics oraz społeczność\n",
    "* licencja: BSD\n",
    "\n",
    "## instalacja\n",
    "\n",
    "`$ pip install bokeh`\n",
    "\n",
    "lub\n",
    "\n",
    "`$ conda install bokeh`\n",
    "\n",
    "## jak to działa?\n",
    "\n",
    "<div class=\"mermaid\">\n",
    "graph TD;\n",
    "    A[\"Python (lub R, Julia, Scala)\"]-->B[\"JSON + (HTML, JS, CSS)\"];\n",
    "    B-->C[\"wizualizacja w przeglądarce\"];\n",
    "</div>\n",
    "\n",
    "## bokeh vs. matplotlib\n",
    "\n",
    "* HTML/JS/CSS vs. qt/gtk + png,pdf,svg,...\n",
    "* mało stabilne API vs. wysoko stabilne API\n",
    "* wiele implementacji vs. tylko Python\n",
    "\n",
    "## przykłady\n",
    "\n",
    "* http://bokeh.pydata.org/en/latest/docs/gallery.html#gallery\n",
    "* http://demo.bokehplots.com\n",
    "* http://cecp.mit.edu\n",
    "\n",
    "## kontakt\n",
    "\n",
    "* strona: https://bokeh.pydata.org\n",
    "* repozytorium: https://github.com/bokeh/bokeh\n",
    "* lista mailingowa: bokeh@continuum.io\n",
    "\n",
    "## statystyki\n",
    "\n",
    "* github\n",
    " * 3600+ obserwatorów\n",
    " * 700+ forków\n",
    "* lista mailingowa\n",
    " * 400+ członków\n",
    " * 150+ wiadomości (listopad 2015)\n",
    "* liczba pobrań\n",
    " * conda: ~21k miesięcznie\n",
    " * pip: ~8k miesięcznie"
   ]
  },
  {
   "cell_type": "markdown",
   "metadata": {},
   "source": [
    "### bokeh w jupyter notebook"
   ]
  },
  {
   "cell_type": "code",
   "execution_count": null,
   "metadata": {},
   "outputs": [],
   "source": [
    "from bokeh.io import output_notebook, show\n",
    "output_notebook()"
   ]
  },
  {
   "cell_type": "markdown",
   "metadata": {},
   "source": [
    "### Tworzenie wykresu"
   ]
  },
  {
   "cell_type": "code",
   "execution_count": null,
   "metadata": {},
   "outputs": [],
   "source": [
    "from numpy import cos, pi, linspace\n",
    "\n",
    "x = linspace(-2*pi, 2*pi, 100)\n",
    "y = cos(x)"
   ]
  },
  {
   "cell_type": "code",
   "execution_count": null,
   "metadata": {},
   "outputs": [],
   "source": [
    "from bokeh.models import (Plot, DataRange1d,\n",
    "    ColumnDataSource, LinearAxis, Grid)\n",
    "from bokeh.models.glyphs import Circle\n",
    "\n",
    "source = ColumnDataSource(dict(x=x, y=y))\n",
    "p1 = Plot(\n",
    "    x_range=DataRange1d(),\n",
    "    y_range=DataRange1d(),\n",
    "    title=\"bokeh.models\")\n",
    "p1.add_glyph(source, Circle(x=\"x\", y=\"y\",\n",
    "    line_color=\"red\", fill_color=\"red\", fill_alpha=0.5, size=10))\n",
    "xaxis = LinearAxis(axis_label=\"x\")\n",
    "yaxis = LinearAxis(axis_label=\"y\")\n",
    "p1.add_layout(xaxis, 'below')\n",
    "p1.add_layout(yaxis, 'left')\n",
    "p1.add_layout(Grid(dimension=0, ticker=xaxis.ticker))\n",
    "p1.add_layout(Grid(dimension=1, ticker=yaxis.ticker))\n",
    "p1.html"
   ]
  },
  {
   "cell_type": "code",
   "execution_count": null,
   "metadata": {},
   "outputs": [],
   "source": [
    "from bokeh.plotting import *\n",
    "\n",
    "p2 = figure(title=\"bokeh.plotting\")\n",
    "p2.xaxis.axis_label = \"x\"\n",
    "p2.yaxis.axis_label = \"y\"\n",
    "p2.circle(x, y,\n",
    "    line_color=\"red\", fill_color=\"red\", fill_alpha=0.5, size=10)\n",
    "show(p2)"
   ]
  },
  {
   "cell_type": "code",
   "execution_count": null,
   "metadata": {},
   "outputs": [],
   "source": [
    "import pandas as pd\n",
    "from bokeh.charts import Scatter\n",
    "p3 = Scatter(pd.DataFrame(dict(x=x, y=y)), title=\"bokeh.charts\")\n",
    "show(p3)"
   ]
  },
  {
   "cell_type": "code",
   "execution_count": null,
   "metadata": {},
   "outputs": [],
   "source": [
    "from bokeh.models.widgets import Tabs, Panel\n",
    "t1 = Panel(child=p1, title=\"bokeh.models\")\n",
    "t2 = Panel(child=p2, title=\"bokeh.plotting\")\n",
    "t3 = Panel(child=p3, title=\"bokeh.charts\")\n",
    "tabs = Tabs(tabs=[t1, t2, t3])\n",
    "show(tabs)"
   ]
  },
  {
   "cell_type": "markdown",
   "metadata": {},
   "source": [
    "### Przykład: zależność spalania od mocy silnika"
   ]
  },
  {
   "cell_type": "code",
   "execution_count": null,
   "metadata": {},
   "outputs": [],
   "source": [
    "from bokeh.sampledata.autompg import autompg"
   ]
  },
  {
   "cell_type": "code",
   "execution_count": null,
   "metadata": {},
   "outputs": [],
   "source": [
    "autompg = autompg.copy()\n",
    "autompg[\"liters\"] = autompg.mpg.map(lambda mpg: 235.0/mpg)"
   ]
  },
  {
   "cell_type": "code",
   "execution_count": null,
   "metadata": {},
   "outputs": [],
   "source": [
    "from bokeh.charts import Scatter\n",
    "p = Scatter(autompg, x='liters', y='hp', color='cyl',\n",
    "    xlabel=\"Spalanie (litry/100 km)\", ylabel=\"Moc (KM)\", legend='bottom_right')\n",
    "show(p)"
   ]
  },
  {
   "cell_type": "markdown",
   "metadata": {},
   "source": [
    "### Przykład: stopa bezrobocia w Polsce"
   ]
  },
  {
   "cell_type": "code",
   "execution_count": null,
   "metadata": {},
   "outputs": [],
   "source": [
    "# http://stat.gov.pl/en/topics/labour-salaries/registered-unemployment/unemployment-rate-1990-2015,3,1.html\n",
    "import pandas as pd\n",
    "data = pd.read_csv(\"unemployment.csv\", skipinitialspace=True)\n",
    "data = data.set_index('Rok')"
   ]
  },
  {
   "cell_type": "code",
   "execution_count": null,
   "metadata": {},
   "outputs": [],
   "source": [
    "data"
   ]
  },
  {
   "cell_type": "code",
   "execution_count": null,
   "metadata": {},
   "outputs": [],
   "source": [
    "data.index = data.index.map(str)"
   ]
  },
  {
   "cell_type": "code",
   "execution_count": null,
   "metadata": {},
   "outputs": [],
   "source": [
    "years = list(data.index)\n",
    "months = list(data.iloc[0].index)"
   ]
  },
  {
   "cell_type": "code",
   "execution_count": null,
   "metadata": {},
   "outputs": [],
   "source": [
    "colors = [\"#75968f\", \"#a5bab7\", \"#c9d9d3\",\n",
    "          \"#e2e2e2\", \"#dfccce\", \"#ddb7b1\",\n",
    "          \"#cc7878\", \"#933b41\", \"#550b1d\"]"
   ]
  },
  {
   "cell_type": "code",
   "execution_count": null,
   "metadata": {},
   "outputs": [],
   "source": [
    "\"\"\"\n",
    "month = []\n",
    "year = []\n",
    "rate = []\n",
    "for y in years:\n",
    "    for m in months:\n",
    "        month.append(m)\n",
    "        year.append(y)\n",
    "        monthly_rate = data[m][y]\n",
    "        rate.append(monthly_rate)\n",
    "\"\"\"\n",
    "        \n",
    "year = sum([ [y]*12 for y in years ], [])\n",
    "month = months*len(year)\n",
    "rate = data.values.flatten()"
   ]
  },
  {
   "cell_type": "code",
   "execution_count": null,
   "metadata": {},
   "outputs": [],
   "source": [
    "color = list(pd.cut(rate, len(colors), labels=colors))"
   ]
  },
  {
   "cell_type": "code",
   "execution_count": null,
   "metadata": {},
   "outputs": [],
   "source": [
    "from bokeh.plotting import ColumnDataSource\n",
    "source = ColumnDataSource(\n",
    "    data=dict(month=month, year=year, rate=rate)\n",
    ")"
   ]
  },
  {
   "cell_type": "code",
   "execution_count": null,
   "metadata": {},
   "outputs": [],
   "source": [
    "from bokeh.plotting import figure\n",
    "\n",
    "title = \"Stopa bezrobocia w Polsce w latach %s - %s\" % \\\n",
    "    (data.index.min(), data.index.max())\n",
    "\n",
    "p = figure(\n",
    "    title=title,\n",
    "    x_range=list(reversed(years)),\n",
    "    y_range=list(reversed(months)),\n",
    "    x_axis_location=\"above\",\n",
    "    plot_width=900,\n",
    "    plot_height=400,\n",
    "    toolbar_location=\"left\",\n",
    "    tools=\"hover,tap\")"
   ]
  },
  {
   "cell_type": "code",
   "execution_count": null,
   "metadata": {},
   "outputs": [],
   "source": [
    "p.grid.grid_line_color = None\n",
    "p.axis.axis_line_color = None\n",
    "p.axis.major_tick_line_color = None\n",
    "p.axis.major_label_text_font_size = \"8pt\"\n",
    "p.axis.major_label_standoff = 0"
   ]
  },
  {
   "cell_type": "code",
   "execution_count": null,
   "metadata": {},
   "outputs": [],
   "source": [
    "from math import pi\n",
    "p.xaxis.major_label_orientation = pi/3"
   ]
  },
  {
   "cell_type": "code",
   "execution_count": null,
   "metadata": {},
   "outputs": [],
   "source": [
    "p.rect(\"year\", \"month\", 1, 1,\n",
    "       source=source, color=color, line_color=None)"
   ]
  },
  {
   "cell_type": "code",
   "execution_count": null,
   "metadata": {},
   "outputs": [],
   "source": [
    "from bokeh.models import HoverTool\n",
    "p.select_one(HoverTool).tooltips = \\\n",
    "    \"@month, @year: <b>@rate{0.00}%</b>\""
   ]
  },
  {
   "cell_type": "code",
   "execution_count": null,
   "metadata": {},
   "outputs": [],
   "source": [
    "from bokeh.models import TapTool, CustomJS\n",
    "customjs = CustomJS(\n",
    "    args=dict(source=source),\n",
    "    lang=\"coffeescript\",\n",
    "    code=\"\"\"\n",
    "Util = require \"util/util\"\n",
    "data = source.get('data')\n",
    "\n",
    "for i in Util.get_indices(source)\n",
    "  year = data['year'][i]\n",
    "  month = data['month'][i]\n",
    "  rate = data['rate'][i]\n",
    "  window.alert(\"Stopa bezrobocia na #{month}, #{year} to #{rate}%\")\n",
    "\"\"\")\n",
    "\n",
    "p.select_one(TapTool).callback = customjs"
   ]
  },
  {
   "cell_type": "code",
   "execution_count": null,
   "metadata": {},
   "outputs": [],
   "source": [
    "show(p)"
   ]
  },
  {
   "cell_type": "code",
   "execution_count": null,
   "metadata": {},
   "outputs": [],
   "source": []
  }
 ],
 "metadata": {
  "kernelspec": {
   "display_name": "Python 2",
   "language": "python",
   "name": "python2"
  },
  "language_info": {
   "codemirror_mode": {
    "name": "ipython",
    "version": 2
   },
   "file_extension": ".py",
   "mimetype": "text/x-python",
   "name": "python",
   "nbconvert_exporter": "python",
   "pygments_lexer": "ipython2",
   "version": "2.7.11"
  }
 },
 "nbformat": 4,
 "nbformat_minor": 0
}
