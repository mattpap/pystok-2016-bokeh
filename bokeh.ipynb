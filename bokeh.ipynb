{
 "cells": [
  {
   "cell_type": "markdown",
   "metadata": {},
   "source": [
    "# bokeh\n",
    "\n",
    "* interaktywne wizualizacje\n",
    "* nowatorskie grafiki\n",
    "* renderowanie w przeglądarce webowej\n",
    "* serwer\n",
    "* strumieniowanie danych, duże dane\n",
    "* (zazwyczaj) nie ma potrzeby znania technologii webowych (HTML, JavaScript, CSS)\n",
    "* integracja z jupyter notebook, numpy, pandas, matplotlib, seaborn, ...\n",
    "* trzy poziomy API (bokeh.models, bokeh.plotting, bokeh.charts)\n",
    "* wbudowany system statycznych typów danych\n",
    "* nie tylko Python (R - rbokeh, Julia - bokeh.jl, Scala - bokeh-scala, ...)\n",
    "* możliwość rozszerzania funkcjonalność biblioteki\n",
    "* licencja: BSD\n",
    "\n",
    "## jak to działa?\n",
    "\n",
    "Python (lub R, Julia, Scala) -> JSON + (HTML, JS, CSS) -> przeglądarka\n",
    "\n",
    "## bokeh vs. matplotlib\n",
    "\n",
    "* przeglądarka webowa vs. qt/gkt + png,pdf,svg,...\n",
    "* mało stabilne API vs. wysoko stabilne API\n",
    "* wiele implementacji vs. tylko Python\n",
    "\n",
    "## planowana funkcjonalność\n",
    "\n",
    "* generowanie statycznych grafik (png/jpeg/svg) (integracja z node.js)\n",
    "* LaTeX math\n",
    "\n",
    "## przykłady\n",
    "\n",
    "* http://demo.bokehplots.com\n",
    "* http://cecp.mit.edu\n",
    "\n",
    "## kontakt\n",
    "\n",
    "* strona: https://bokeh.pydata.org\n",
    "* repozytorium: https://github.com/bokeh/bokeh\n",
    "* lista mailingowa: bokeh@continuum.io\n",
    "\n",
    "## statystyki\n",
    "\n",
    "* github\n",
    " * 3600+ obserwatorów\n",
    " * 700+ forków\n",
    "* lista mailingowa\n",
    " * 400+ członków\n",
    " * 150+ wiadomości (listopad 2015)\n",
    "* liczba pobrań\n",
    " * conda: ~21k miesięcznie\n",
    " * pip: ~8k miesięcznie"
   ]
  },
  {
   "cell_type": "code",
   "execution_count": null,
   "metadata": {
    "collapsed": false
   },
   "outputs": [],
   "source": [
    "from bokeh.io import output_notebook\n",
    "output_notebook()"
   ]
  },
  {
   "cell_type": "code",
   "execution_count": null,
   "metadata": {
    "collapsed": false
   },
   "outputs": [],
   "source": [
    "from bokeh.plotting import *\n",
    "\n",
    "x = list(range(1, 20))\n",
    "y = [ xi**2 for xi in x ]\n",
    "\n",
    "p = figure()\n",
    "p.line(x, y, line_color=\"red\")\n",
    "show(p)"
   ]
  },
  {
   "cell_type": "code",
   "execution_count": null,
   "metadata": {
    "collapsed": false
   },
   "outputs": [],
   "source": [
    "import numpy as np\n",
    "from bokeh.plotting import *\n",
    "\n",
    "N = 20\n",
    "x = np.random.normal(size=N)\n",
    "y = np.random.normal(size=N)\n",
    "\n",
    "minval = min(x.min(), y.min())*1.1\n",
    "maxval = max(x.max(), y.max())*1.1\n",
    "\n",
    "mids = (x + y)/2\n",
    "\n",
    "p = figure()\n",
    "p.line([minval, maxval], [minval, maxval], color='gray', line_width=3)\n",
    "p.segment(mids, mids, x, y, color='gray', alpha=0.6, line_width=2, line_dash='dashed')\n",
    "p.scatter(x, y, marker='circle', color='red', size=6)\n",
    "show(p)"
   ]
  },
  {
   "cell_type": "code",
   "execution_count": null,
   "metadata": {
    "collapsed": true
   },
   "outputs": [],
   "source": []
  },
  {
   "cell_type": "code",
   "execution_count": null,
   "metadata": {
    "collapsed": true
   },
   "outputs": [],
   "source": []
  }
 ],
 "metadata": {
  "kernelspec": {
   "display_name": "Python 2",
   "language": "python",
   "name": "python2"
  },
  "language_info": {
   "codemirror_mode": {
    "name": "ipython",
    "version": 2
   },
   "file_extension": ".py",
   "mimetype": "text/x-python",
   "name": "python",
   "nbconvert_exporter": "python",
   "pygments_lexer": "ipython2",
   "version": "2.7.11"
  }
 },
 "nbformat": 4,
 "nbformat_minor": 0
}
